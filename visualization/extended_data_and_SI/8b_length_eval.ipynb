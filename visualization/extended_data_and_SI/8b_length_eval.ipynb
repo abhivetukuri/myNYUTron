{
 "cells": [
  {
   "cell_type": "code",
   "execution_count": 9,
   "metadata": {},
   "outputs": [],
   "source": [
    "import pandas as pd\n",
    "import seaborn as sns\n",
    "import matplotlib.pyplot as plt\n",
    "import wandb\n",
    "from pandas.io.json._normalize import nested_to_record\n",
    "\n",
    "%matplotlib inline"
   ]
  },
  {
   "cell_type": "code",
   "execution_count": 10,
   "metadata": {},
   "outputs": [],
   "source": [
    "username = \"lavender\"\n",
    "project_name = \"new_length_performance\"\n",
    "metric_name = \"eval/roc_auc\"\n",
    "api = wandb.Api()\n",
    "\n",
    "# Project is specified by <entity/project-name>\n",
    "runs = api.runs(f\"{username}/{project_name}\")\n",
    "summary_list = []\n",
    "config_list = []\n",
    "name_list = []\n",
    "for run in runs:\n",
    "    # run.summary are the output key/values like accuracy.\n",
    "    # We call ._json_dict to omit large files\n",
    "    summary_list.append(run.summary._json_dict)\n",
    "\n",
    "    # run.config is the input metrics.\n",
    "    # We remove special values that start with _.\n",
    "    conf = nested_to_record(run.config, sep=\"/\")\n",
    "    config = {k: v for k, v in conf.items() if not k.startswith(\"_\")}\n",
    "    config_list.append(config)\n",
    "\n",
    "    # run.name is the name of the run.\n",
    "    name_list.append(run.name)\n",
    "\n",
    "import pandas as pd\n",
    "\n",
    "summary_df = pd.DataFrame.from_records(summary_list)\n",
    "config_df = pd.DataFrame.from_records(config_list)\n",
    "name_df = pd.DataFrame({\"name\": name_list})\n",
    "data_df = pd.concat([name_df, config_df, summary_df], axis=1)\n",
    "\n",
    "data_df.to_csv(\"data/length_eval.csv\")"
   ]
  },
  {
   "cell_type": "code",
   "execution_count": 11,
   "metadata": {},
   "outputs": [
    {
     "data": {
      "text/html": [
       "<div>\n",
       "<style scoped>\n",
       "    .dataframe tbody tr th:only-of-type {\n",
       "        vertical-align: middle;\n",
       "    }\n",
       "\n",
       "    .dataframe tbody tr th {\n",
       "        vertical-align: top;\n",
       "    }\n",
       "\n",
       "    .dataframe thead th {\n",
       "        text-align: right;\n",
       "    }\n",
       "</style>\n",
       "<table border=\"1\" class=\"dataframe\">\n",
       "  <thead>\n",
       "    <tr style=\"text-align: right;\">\n",
       "      <th></th>\n",
       "      <th>name</th>\n",
       "      <th>eval/roc_auc</th>\n",
       "      <th>word_cnt</th>\n",
       "    </tr>\n",
       "  </thead>\n",
       "  <tbody>\n",
       "    <tr>\n",
       "      <th>0</th>\n",
       "      <td>first_400_words</td>\n",
       "      <td>0.788996</td>\n",
       "      <td>400</td>\n",
       "    </tr>\n",
       "    <tr>\n",
       "      <th>1</th>\n",
       "      <td>first_300_words</td>\n",
       "      <td>0.786494</td>\n",
       "      <td>300</td>\n",
       "    </tr>\n",
       "    <tr>\n",
       "      <th>2</th>\n",
       "      <td>first_200_words</td>\n",
       "      <td>0.780862</td>\n",
       "      <td>200</td>\n",
       "    </tr>\n",
       "    <tr>\n",
       "      <th>3</th>\n",
       "      <td>first_100_words</td>\n",
       "      <td>0.768365</td>\n",
       "      <td>100</td>\n",
       "    </tr>\n",
       "  </tbody>\n",
       "</table>\n",
       "</div>"
      ],
      "text/plain": [
       "              name  eval/roc_auc  word_cnt\n",
       "0  first_400_words      0.788996       400\n",
       "1  first_300_words      0.786494       300\n",
       "2  first_200_words      0.780862       200\n",
       "3  first_100_words      0.768365       100"
      ]
     },
     "execution_count": 11,
     "metadata": {},
     "output_type": "execute_result"
    }
   ],
   "source": [
    "plot_df = data_df[[\"name\", metric_name, \"word_cnt\"]]\n",
    "plot_df"
   ]
  },
  {
   "cell_type": "code",
   "execution_count": 21,
   "metadata": {},
   "outputs": [
    {
     "data": {
      "image/png": "[encoded data removed]",
      "text/plain": [
       "<Figure size 432x288 with 1 Axes>"
      ]
     },
     "metadata": {
      "needs_background": "light"
     },
     "output_type": "display_data"
    }
   ],
   "source": [
    "ax = sns.barplot(data=plot_df, x=\"word_cnt\", y=metric_name, color=\"black\")\n",
    "ax.set(xticklabels=[100, 200, 300, 400])\n",
    "plt.ylabel(\"Temporal Test AUC\")\n",
    "plt.xlabel(\"Truncated Number of Words for Long Notes\")\n",
    "ax.axhline(0.802, linestyle=\"--\", color=\"black\", label=\"AUC for all notes\")\n",
    "plt.ylim([0.76, 0.81])\n",
    "plt.legend()\n",
    "plt.savefig(\"plots/length_analysis.png\", dpi=300)"
   ]
  }
 ],
 "metadata": {
  "kernelspec": {
   "display_name": "Python 3.10.2 ('ds')",
   "language": "python",
   "name": "python3"
  },
  "language_info": {
   "codemirror_mode": {
    "name": "ipython",
    "version": 3
   },
   "file_extension": ".py",
   "mimetype": "text/x-python",
   "name": "python",
   "nbconvert_exporter": "python",
   "pygments_lexer": "ipython3",
   "version": "3.10.2"
  },
  "orig_nbformat": 4,
  "vscode": {
   "interpreter": {
    "hash": "f2d120223a6515dc0c7c16162fc5a2fa4110b35f32e696807c5ea82b3cb4ddfe"
   }
  }
 },
 "nbformat": 4,
 "nbformat_minor": 2
}
