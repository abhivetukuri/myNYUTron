{
 "cells": [
  {
   "cell_type": "code",
   "execution_count": 1,
   "metadata": {},
   "outputs": [],
   "source": [
    "import pandas as pd\n",
    "import seaborn as sns\n",
    "import matplotlib.pyplot as plt\n",
    "import wandb\n",
    "from pandas.io.json._normalize import nested_to_record\n",
    "\n",
    "%matplotlib inline"
   ]
  },
  {
   "cell_type": "code",
   "execution_count": 2,
   "metadata": {},
   "outputs": [],
   "source": [
    "username = \"lavender\"\n",
    "project_name = \"new_race_performance\"\n",
    "metric_name = \"eval/roc_auc\"\n",
    "api = wandb.Api()\n",
    "\n",
    "# Project is specified by <entity/project-name>\n",
    "runs = api.runs(f\"{username}/{project_name}\")\n",
    "summary_list = []\n",
    "config_list = []\n",
    "name_list = []\n",
    "for run in runs:\n",
    "    # run.summary are the output key/values like accuracy.\n",
    "    # We call ._json_dict to omit large files\n",
    "    summary_list.append(run.summary._json_dict)\n",
    "\n",
    "    # run.config is the input metrics.\n",
    "    # We remove special values that start with _.\n",
    "    conf = nested_to_record(run.config, sep=\"/\")\n",
    "    config = {k: v for k, v in conf.items() if not k.startswith(\"_\")}\n",
    "    config_list.append(config)\n",
    "\n",
    "    # run.name is the name of the run.\n",
    "    name_list.append(run.name)\n",
    "\n",
    "import pandas as pd\n",
    "\n",
    "summary_df = pd.DataFrame.from_records(summary_list)\n",
    "config_df = pd.DataFrame.from_records(config_list)\n",
    "name_df = pd.DataFrame({\"name\": name_list})\n",
    "data_df = pd.concat([name_df, config_df, summary_df], axis=1)\n",
    "\n",
    "data_df.to_csv(\"data/race_eval.csv\")"
   ]
  },
  {
   "cell_type": "code",
   "execution_count": 3,
   "metadata": {},
   "outputs": [],
   "source": [
    "plot_df = data_df[[\"name\", metric_name]]"
   ]
  },
  {
   "cell_type": "code",
   "execution_count": 4,
   "metadata": {},
   "outputs": [
    {
     "data": {
      "text/html": [
       "<div>\n",
       "<style scoped>\n",
       "    .dataframe tbody tr th:only-of-type {\n",
       "        vertical-align: middle;\n",
       "    }\n",
       "\n",
       "    .dataframe tbody tr th {\n",
       "        vertical-align: top;\n",
       "    }\n",
       "\n",
       "    .dataframe thead th {\n",
       "        text-align: right;\n",
       "    }\n",
       "</style>\n",
       "<table border=\"1\" class=\"dataframe\">\n",
       "  <thead>\n",
       "    <tr style=\"text-align: right;\">\n",
       "      <th></th>\n",
       "      <th>name</th>\n",
       "      <th>eval/roc_auc</th>\n",
       "    </tr>\n",
       "  </thead>\n",
       "  <tbody>\n",
       "    <tr>\n",
       "      <th>0</th>\n",
       "      <td>AsianIndian</td>\n",
       "      <td>0.809750</td>\n",
       "    </tr>\n",
       "    <tr>\n",
       "      <th>1</th>\n",
       "      <td>Chinese</td>\n",
       "      <td>0.847718</td>\n",
       "    </tr>\n",
       "    <tr>\n",
       "      <th>2</th>\n",
       "      <td>White</td>\n",
       "      <td>0.796209</td>\n",
       "    </tr>\n",
       "    <tr>\n",
       "      <th>3</th>\n",
       "      <td>OtherRace</td>\n",
       "      <td>0.813267</td>\n",
       "    </tr>\n",
       "    <tr>\n",
       "      <th>4</th>\n",
       "      <td>AfricanAmericanBlack</td>\n",
       "      <td>0.773658</td>\n",
       "    </tr>\n",
       "  </tbody>\n",
       "</table>\n",
       "</div>"
      ],
      "text/plain": [
       "                   name  eval/roc_auc\n",
       "0           AsianIndian      0.809750\n",
       "1               Chinese      0.847718\n",
       "2                 White      0.796209\n",
       "3             OtherRace      0.813267\n",
       "4  AfricanAmericanBlack      0.773658"
      ]
     },
     "execution_count": 4,
     "metadata": {},
     "output_type": "execute_result"
    }
   ],
   "source": [
    "plot_df"
   ]
  },
  {
   "cell_type": "code",
   "execution_count": 5,
   "metadata": {},
   "outputs": [
    {
     "name": "stderr",
     "output_type": "stream",
     "text": [
      "/var/folders/5v/561pm5gx1h9fgr_77mp6091m0000gn/T/ipykernel_6650/254438677.py:1: SettingWithCopyWarning: \n",
      "A value is trying to be set on a copy of a slice from a DataFrame.\n",
      "Try using .loc[row_indexer,col_indexer] = value instead\n",
      "\n",
      "See the caveats in the documentation: https://pandas.pydata.org/pandas-docs/stable/user_guide/indexing.html#returning-a-view-versus-a-copy\n",
      "  plot_df['name'] = ['Indian', 'Chinese', 'White', 'Other Race', 'Black']\n",
      "/var/folders/5v/561pm5gx1h9fgr_77mp6091m0000gn/T/ipykernel_6650/254438677.py:2: SettingWithCopyWarning: \n",
      "A value is trying to be set on a copy of a slice from a DataFrame.\n",
      "Try using .loc[row_indexer,col_indexer] = value instead\n",
      "\n",
      "See the caveats in the documentation: https://pandas.pydata.org/pandas-docs/stable/user_guide/indexing.html#returning-a-view-versus-a-copy\n",
      "  plot_df['count'] = [952, 2000, 30811, 8653, 7366]\n",
      "/var/folders/5v/561pm5gx1h9fgr_77mp6091m0000gn/T/ipykernel_6650/254438677.py:3: SettingWithCopyWarning: \n",
      "A value is trying to be set on a copy of a slice from a DataFrame.\n",
      "Try using .loc[row_indexer,col_indexer] = value instead\n",
      "\n",
      "See the caveats in the documentation: https://pandas.pydata.org/pandas-docs/stable/user_guide/indexing.html#returning-a-view-versus-a-copy\n",
      "  plot_df['p'] = [0.082983, 0.112500, 0.111324, 0.113371, 0.128699]\n",
      "/var/folders/5v/561pm5gx1h9fgr_77mp6091m0000gn/T/ipykernel_6650/254438677.py:4: SettingWithCopyWarning: \n",
      "A value is trying to be set on a copy of a slice from a DataFrame.\n",
      "Try using .loc[row_indexer,col_indexer] = value instead\n",
      "\n",
      "See the caveats in the documentation: https://pandas.pydata.org/pandas-docs/stable/user_guide/indexing.html#returning-a-view-versus-a-copy\n",
      "  plot_df['readmission_rate'] = plot_df['p'].apply(lambda x: f'{100*x:10.2f}%')\n"
     ]
    },
    {
     "data": {
      "text/html": [
       "<div>\n",
       "<style scoped>\n",
       "    .dataframe tbody tr th:only-of-type {\n",
       "        vertical-align: middle;\n",
       "    }\n",
       "\n",
       "    .dataframe tbody tr th {\n",
       "        vertical-align: top;\n",
       "    }\n",
       "\n",
       "    .dataframe thead th {\n",
       "        text-align: right;\n",
       "    }\n",
       "</style>\n",
       "<table border=\"1\" class=\"dataframe\">\n",
       "  <thead>\n",
       "    <tr style=\"text-align: right;\">\n",
       "      <th></th>\n",
       "      <th>name</th>\n",
       "      <th>eval/roc_auc</th>\n",
       "      <th>count</th>\n",
       "      <th>p</th>\n",
       "      <th>readmission_rate</th>\n",
       "    </tr>\n",
       "  </thead>\n",
       "  <tbody>\n",
       "    <tr>\n",
       "      <th>1</th>\n",
       "      <td>Chinese</td>\n",
       "      <td>0.847718</td>\n",
       "      <td>2000</td>\n",
       "      <td>0.112500</td>\n",
       "      <td>11.25%</td>\n",
       "    </tr>\n",
       "    <tr>\n",
       "      <th>3</th>\n",
       "      <td>Other Race</td>\n",
       "      <td>0.813267</td>\n",
       "      <td>8653</td>\n",
       "      <td>0.113371</td>\n",
       "      <td>11.34%</td>\n",
       "    </tr>\n",
       "    <tr>\n",
       "      <th>0</th>\n",
       "      <td>Indian</td>\n",
       "      <td>0.809750</td>\n",
       "      <td>952</td>\n",
       "      <td>0.082983</td>\n",
       "      <td>8.30%</td>\n",
       "    </tr>\n",
       "    <tr>\n",
       "      <th>2</th>\n",
       "      <td>White</td>\n",
       "      <td>0.796209</td>\n",
       "      <td>30811</td>\n",
       "      <td>0.111324</td>\n",
       "      <td>11.13%</td>\n",
       "    </tr>\n",
       "    <tr>\n",
       "      <th>4</th>\n",
       "      <td>Black</td>\n",
       "      <td>0.773658</td>\n",
       "      <td>7366</td>\n",
       "      <td>0.128699</td>\n",
       "      <td>12.87%</td>\n",
       "    </tr>\n",
       "  </tbody>\n",
       "</table>\n",
       "</div>"
      ],
      "text/plain": [
       "         name  eval/roc_auc  count         p readmission_rate\n",
       "1     Chinese      0.847718   2000  0.112500           11.25%\n",
       "3  Other Race      0.813267   8653  0.113371           11.34%\n",
       "0      Indian      0.809750    952  0.082983            8.30%\n",
       "2       White      0.796209  30811  0.111324           11.13%\n",
       "4       Black      0.773658   7366  0.128699           12.87%"
      ]
     },
     "execution_count": 5,
     "metadata": {},
     "output_type": "execute_result"
    }
   ],
   "source": [
    "plot_df[\"name\"] = [\"Indian\", \"Chinese\", \"White\", \"Other Race\", \"Black\"]\n",
    "plot_df[\"count\"] = [952, 2000, 30811, 8653, 7366]\n",
    "plot_df[\"p\"] = [0.082983, 0.112500, 0.111324, 0.113371, 0.128699]\n",
    "plot_df[\"readmission_rate\"] = plot_df[\"p\"].apply(lambda x: f\"{100*x:10.2f}%\")\n",
    "plot_df = plot_df.sort_values(by=metric_name, ascending=False)\n",
    "plot_df"
   ]
  },
  {
   "cell_type": "code",
   "execution_count": 8,
   "metadata": {},
   "outputs": [
    {
     "data": {
      "image/png": "[encoded data removed]",
      "text/plain": [
       "<Figure size 432x288 with 1 Axes>"
      ]
     },
     "metadata": {
      "needs_background": "light"
     },
     "output_type": "display_data"
    }
   ],
   "source": [
    "ax = sns.barplot(data=plot_df, x=\"name\", y=metric_name, color=\"black\")\n",
    "# palette=sns.color_palette('Set2',5))\n",
    "t = plt.text(\n",
    "    0.6,\n",
    "    0.85,\n",
    "    \"N: number of examples \\n p: readmission rate\",\n",
    "    wrap=True,\n",
    "    transform=plt.gca().transAxes,\n",
    ")\n",
    "t.set_bbox(dict(facecolor=\"white\", alpha=0.5, edgecolor=\"black\"))\n",
    "# Create the figure\n",
    "for idx, p in enumerate(ax.patches):\n",
    "    ax.annotate(\n",
    "        \"N=\"\n",
    "        + str(plot_df.iloc[idx][\"count\"])\n",
    "        + \"\\n p=\"\n",
    "        + plot_df.iloc[idx][\"readmission_rate\"].strip(),\n",
    "        (p.get_x() + 0.4, p.get_height()),\n",
    "        ha=\"center\",\n",
    "        va=\"bottom\",\n",
    "        color=\"black\",\n",
    "    )\n",
    "plt.ylabel(\"Temporal Test AUC\")\n",
    "plt.xlabel(\"\")\n",
    "plt.ylim([0.7, 0.9])\n",
    "plt.savefig(\"plots/race_analysis.png\", dpi=300)"
   ]
  }
 ],
 "metadata": {
  "kernelspec": {
   "display_name": "Python 3.10.2 ('ds')",
   "language": "python",
   "name": "python3"
  },
  "language_info": {
   "codemirror_mode": {
    "name": "ipython",
    "version": 3
   },
   "file_extension": ".py",
   "mimetype": "text/x-python",
   "name": "python",
   "nbconvert_exporter": "python",
   "pygments_lexer": "ipython3",
   "version": "3.10.2"
  },
  "orig_nbformat": 4,
  "vscode": {
   "interpreter": {
    "hash": "f2d120223a6515dc0c7c16162fc5a2fa4110b35f32e696807c5ea82b3cb4ddfe"
   }
  }
 },
 "nbformat": 4,
 "nbformat_minor": 2
}
