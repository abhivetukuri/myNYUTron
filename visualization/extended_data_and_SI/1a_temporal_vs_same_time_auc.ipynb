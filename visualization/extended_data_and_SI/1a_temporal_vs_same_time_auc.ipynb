{
 "cells": [
  {
   "cell_type": "code",
   "execution_count": 1,
   "metadata": {},
   "outputs": [],
   "source": [
    "import pandas as pd\n",
    "import seaborn as sns\n",
    "import matplotlib.pyplot as plt\n",
    "from pandas.io.json._normalize import nested_to_record\n",
    "import json\n",
    "import wandb\n",
    "\n",
    "%matplotlib inline"
   ]
  },
  {
   "cell_type": "markdown",
   "metadata": {},
   "source": [
    "## gather data df"
   ]
  },
  {
   "cell_type": "code",
   "execution_count": 2,
   "metadata": {},
   "outputs": [],
   "source": [
    "username = \"lavender\"\n",
    "project_name = \"eval_threshold\"\n",
    "api = wandb.Api()"
   ]
  },
  {
   "cell_type": "code",
   "execution_count": 3,
   "metadata": {},
   "outputs": [],
   "source": [
    "def artifact_to_df(artifact):\n",
    "    local_path = artifact.file()\n",
    "    f = open(local_path)\n",
    "    data = json.load(f)\n",
    "    df = pd.DataFrame(data=data[\"data\"], columns=data[\"columns\"])\n",
    "    return df"
   ]
  },
  {
   "cell_type": "code",
   "execution_count": 4,
   "metadata": {},
   "outputs": [],
   "source": [
    "def combine(\n",
    "    trials=[\"temporal\", \"prospective\", \"random\"],\n",
    "    metrics=[\"fpr\", \"tpr\"],\n",
    "    artifact_names=[\n",
    "        \"new_temporal_auc_curve\",\n",
    "        \"prospective_auc\",\n",
    "        \"new_random_test_auc_curve\",\n",
    "    ],\n",
    "):\n",
    "    dfs = []\n",
    "    subs = []\n",
    "    for artifact_name in artifact_names:\n",
    "        artifact = api.artifact(f\"{username}/{project_name}/{artifact_name}:v0\")\n",
    "        df = artifact_to_df(artifact)\n",
    "        dfs.append(df)\n",
    "    for idx, artifact_df in enumerate(dfs):\n",
    "        print(artifact_df)\n",
    "        df_sub = artifact_df[metrics]\n",
    "        df_sub[\"trial\"] = trials[idx]\n",
    "        print(df_sub)\n",
    "        subs.append(df_sub)\n",
    "    combined = pd.concat(subs, ignore_index=True)\n",
    "    return combined"
   ]
  },
  {
   "cell_type": "code",
   "execution_count": 5,
   "metadata": {},
   "outputs": [
    {
     "name": "stdout",
     "output_type": "stream",
     "text": [
      "      class    fpr    tpr\n",
      "0         1  0.000  0.000\n",
      "1         1  0.000  0.000\n",
      "2         1  0.000  0.001\n",
      "3         1  0.000  0.001\n",
      "4         1  0.000  0.008\n",
      "...     ...    ...    ...\n",
      "9593      1  0.997  1.000\n",
      "9594      1  0.997  1.000\n",
      "9595      1  0.998  1.000\n",
      "9596      1  0.998  1.000\n",
      "9597      1  1.000  1.000\n",
      "\n",
      "[9598 rows x 3 columns]\n",
      "        fpr    tpr     trial\n",
      "0     0.000  0.000  temporal\n",
      "1     0.000  0.000  temporal\n",
      "2     0.000  0.001  temporal\n",
      "3     0.000  0.001  temporal\n",
      "4     0.000  0.008  temporal\n",
      "...     ...    ...       ...\n",
      "9593  0.997  1.000  temporal\n",
      "9594  0.997  1.000  temporal\n",
      "9595  0.998  1.000  temporal\n",
      "9596  0.998  1.000  temporal\n",
      "9597  1.000  1.000  temporal\n",
      "\n",
      "[9598 rows x 3 columns]\n",
      "      class    fpr    tpr\n",
      "0         1  0.000  0.000\n",
      "1         1  0.000  0.000\n",
      "2         1  0.000  0.006\n",
      "3         1  0.000  0.006\n",
      "4         1  0.000  0.027\n",
      "...     ...    ...    ...\n",
      "5177      1  0.996  1.000\n",
      "5178      1  0.996  1.000\n",
      "5179      1  0.997  1.000\n",
      "5180      1  0.997  1.000\n",
      "5181      1  1.000  1.000\n",
      "\n",
      "[5182 rows x 3 columns]\n",
      "        fpr    tpr        trial\n",
      "0     0.000  0.000  prospective\n",
      "1     0.000  0.000  prospective\n",
      "2     0.000  0.006  prospective\n",
      "3     0.000  0.006  prospective\n",
      "4     0.000  0.027  prospective\n",
      "...     ...    ...          ...\n",
      "5177  0.996  1.000  prospective\n",
      "5178  0.996  1.000  prospective\n",
      "5179  0.997  1.000  prospective\n",
      "5180  0.997  1.000  prospective\n",
      "5181  1.000  1.000  prospective\n",
      "\n",
      "[5182 rows x 3 columns]\n",
      "      class    fpr    tpr\n",
      "0         1  0.000  0.000\n",
      "1         1  0.000  0.000\n",
      "2         1  0.000  0.006\n",
      "3         1  0.000  0.006\n",
      "4         1  0.000  0.007\n",
      "...     ...    ...    ...\n",
      "7731      1  0.998  1.000\n",
      "7732      1  0.998  1.000\n",
      "7733      1  0.999  1.000\n",
      "7734      1  0.999  1.000\n",
      "7735      1  1.000  1.000\n",
      "\n",
      "[7736 rows x 3 columns]\n",
      "        fpr    tpr   trial\n",
      "0     0.000  0.000  random\n",
      "1     0.000  0.000  random\n",
      "2     0.000  0.006  random\n",
      "3     0.000  0.006  random\n",
      "4     0.000  0.007  random\n",
      "...     ...    ...     ...\n",
      "7731  0.998  1.000  random\n",
      "7732  0.998  1.000  random\n",
      "7733  0.999  1.000  random\n",
      "7734  0.999  1.000  random\n",
      "7735  1.000  1.000  random\n",
      "\n",
      "[7736 rows x 3 columns]\n"
     ]
    }
   ],
   "source": [
    "combined = combine()"
   ]
  },
  {
   "cell_type": "code",
   "execution_count": 6,
   "metadata": {},
   "outputs": [],
   "source": [
    "df_plot = combined[combined.trial.isin([\"temporal\", \"random\"])]"
   ]
  },
  {
   "cell_type": "code",
   "execution_count": 7,
   "metadata": {},
   "outputs": [
    {
     "name": "stderr",
     "output_type": "stream",
     "text": [
      "/tmp/ipykernel_20771/11127501.py:1: SettingWithCopyWarning: \n",
      "A value is trying to be set on a copy of a slice from a DataFrame.\n",
      "Try using .loc[row_indexer,col_indexer] = value instead\n",
      "\n",
      "See the caveats in the documentation: https://pandas.pydata.org/pandas-docs/stable/user_guide/indexing.html#returning-a-view-versus-a-copy\n",
      "  df_plot['trial'] = df_plot['trial'].replace({'random':'random-split',\n"
     ]
    }
   ],
   "source": [
    "df_plot[\"trial\"] = df_plot[\"trial\"].replace(\n",
    "    {\"random\": \"random-split\", \"temporal\": \"temporal-split\"}\n",
    ")"
   ]
  },
  {
   "cell_type": "code",
   "execution_count": 8,
   "metadata": {
    "scrolled": true
   },
   "outputs": [
    {
     "name": "stderr",
     "output_type": "stream",
     "text": [
      "/tmp/ipykernel_20771/269343486.py:1: SettingWithCopyWarning: \n",
      "A value is trying to be set on a copy of a slice from a DataFrame.\n",
      "Try using .loc[row_indexer,col_indexer] = value instead\n",
      "\n",
      "See the caveats in the documentation: https://pandas.pydata.org/pandas-docs/stable/user_guide/indexing.html#returning-a-view-versus-a-copy\n",
      "  df_plot['trial'] = pd.Categorical(df_plot['trial'],categories=['random-split', 'temporal-split'])\n"
     ]
    }
   ],
   "source": [
    "df_plot[\"trial\"] = pd.Categorical(\n",
    "    df_plot[\"trial\"], categories=[\"random-split\", \"temporal-split\"]\n",
    ")\n",
    "df_plot = df_plot.sort_values(by=\"trial\")"
   ]
  },
  {
   "cell_type": "code",
   "execution_count": 9,
   "metadata": {},
   "outputs": [],
   "source": [
    "sns.set_theme(\n",
    "    context=\"paper\",\n",
    "    style=\"white\",\n",
    "    palette=\"deep\",\n",
    "    font_scale=2,\n",
    "    color_codes=True,\n",
    "    rc=None,\n",
    ")"
   ]
  },
  {
   "cell_type": "code",
   "execution_count": 11,
   "metadata": {},
   "outputs": [
    {
     "data": {
      "image/png": "[encoded data removed]",
      "text/plain": [
       "<Figure size 576x432 with 1 Axes>"
      ]
     },
     "metadata": {},
     "output_type": "display_data"
    }
   ],
   "source": [
    "plt.figure(figsize=(8, 6))\n",
    "sns.lineplot(x=\"fpr\", y=\"tpr\", data=df_plot, hue=\"trial\")  # , ci=100)\n",
    "plt.legend(loc=\"lower right\")\n",
    "plt.xlabel(\"False Positive Rate (fpr)\")\n",
    "plt.ylabel(\"True Positive Rate (tpr)\")\n",
    "plt.savefig(\"AIP_plots/ext_4a.png\", bbox_inches=\"tight\", dpi=300)"
   ]
  }
 ],
 "metadata": {
  "kernelspec": {
   "display_name": "Python 3 (ipykernel)",
   "language": "python",
   "name": "python3"
  },
  "language_info": {
   "codemirror_mode": {
    "name": "ipython",
    "version": 3
   },
   "file_extension": ".py",
   "mimetype": "text/x-python",
   "name": "python",
   "nbconvert_exporter": "python",
   "pygments_lexer": "ipython3",
   "version": "3.8.13"
  },
  "vscode": {
   "interpreter": {
    "hash": "f2d120223a6515dc0c7c16162fc5a2fa4110b35f32e696807c5ea82b3cb4ddfe"
   }
  }
 },
 "nbformat": 4,
 "nbformat_minor": 2
}
