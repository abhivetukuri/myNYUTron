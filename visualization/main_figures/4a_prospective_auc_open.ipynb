{
 "cells": [
  {
   "cell_type": "code",
   "execution_count": 1,
   "metadata": {},
   "outputs": [],
   "source": [
    "import pandas as pd\n",
    "import seaborn as sns\n",
    "import matplotlib.pyplot as plt\n",
    "from pandas.io.json._normalize import nested_to_record\n",
    "import json, wandb\n",
    "from omegaconf import OmegaConf\n",
    "\n",
    "%matplotlib inline"
   ]
  },
  {
   "cell_type": "markdown",
   "metadata": {},
   "source": [
    "## gather data df"
   ]
  },
  {
   "cell_type": "code",
   "execution_count": 2,
   "metadata": {},
   "outputs": [],
   "source": [
    "pull_from_wandb = False\n",
    "\n",
    "if pull_from_wandb:\n",
    "    username = \"lavender\"\n",
    "    project_name = \"eval_threshold\"\n",
    "    api = wandb.Api()\n",
    "\n",
    "    def artifact_to_df(artifact):\n",
    "        local_path = artifact.file()\n",
    "        f = open(local_path)\n",
    "        data = json.load(f)\n",
    "        df = pd.DataFrame(data=data[\"data\"], columns=data[\"columns\"])\n",
    "        return df\n",
    "\n",
    "    def combine(\n",
    "        trials=[\"temporal\", \"prospective\", \"random\"],\n",
    "        metrics=[\"fpr\", \"tpr\"],\n",
    "        artifact_names=[\n",
    "            \"new_temporal_auc_curve\",\n",
    "            \"prospective_auc\",\n",
    "            \"new_random_test_auc_curve\",\n",
    "        ],\n",
    "    ):\n",
    "        dfs = []\n",
    "        subs = []\n",
    "        for artifact_name in artifact_names:\n",
    "            artifact = api.artifact(f\"{username}/{project_name}/{artifact_name}:v0\")\n",
    "            df = artifact_to_df(artifact)\n",
    "            dfs.append(df)\n",
    "        for idx, artifact_df in enumerate(dfs):\n",
    "            print(artifact_df)\n",
    "            df_sub = artifact_df[metrics]\n",
    "            df_sub[\"trial\"] = trials[idx]\n",
    "            print(df_sub)\n",
    "            subs.append(df_sub)\n",
    "        combined = pd.concat(subs, ignore_index=True)\n",
    "        return combined\n",
    "\n",
    "    combined = combine()\n",
    "    df_plot = combined[combined.trial.isin([\"temporal\", \"random\"])]\n",
    "    df_plot[\"trial\"] = df_plot[\"trial\"].replace(\n",
    "        {\"random\": \"random-split\", \"temporal\": \"temporal-split\"}\n",
    "    )\n",
    "    df_plot[\"trial\"] = pd.Categorical(\n",
    "        df_plot[\"trial\"], categories=[\"random-split\", \"temporal-split\"]\n",
    "    )\n",
    "    df_plot = df_plot.sort_values(by=\"trial\")\n",
    "    df_plot.to_csv(\"raw_data/4a_auc.csv\")\n",
    "\n",
    "\n",
    "else:\n",
    "    df_plot = pd.read_csv(\"raw_data/4a_auc.csv\", index_col=0)"
   ]
  },
  {
   "cell_type": "code",
   "execution_count": 3,
   "metadata": {},
   "outputs": [
    {
     "name": "stdout",
     "output_type": "stream",
     "text": [
      "{'axes.labelsize': 7, 'xtick.labelsize': 7, 'ytick.labelsize': 7, 'legend.fontsize': 7, 'font.size': 7, 'font.family': 'sans-serif', 'font.sans-serif': 'Arial, Helvetica', 'mathtext.fontset': 'dejavusans', 'axes.linewidth': 0.5, 'grid.linewidth': 0.5, 'lines.linewidth': 1.0, 'lines.markersize': 3, 'pdf.fonttype': 42, 'ps.fonttype': 42, 'svg.fonttype': 'none'}\n"
     ]
    }
   ],
   "source": [
    "plt_conf = OmegaConf.load(\"nature.yaml\")\n",
    "slack = 5\n",
    "single_col_width = 89 - slack\n",
    "double_col_width = 183 - slack\n",
    "height = 89 - slack\n",
    "\n",
    "\n",
    "def mm_to_inch(mm):\n",
    "    return mm / 25.4\n",
    "\n",
    "\n",
    "print(plt_conf)"
   ]
  },
  {
   "cell_type": "code",
   "execution_count": 8,
   "metadata": {},
   "outputs": [
    {
     "name": "stderr",
     "output_type": "stream",
     "text": [
      "/var/folders/5v/561pm5gx1h9fgr_77mp6091m0000gn/T/ipykernel_18853/1272353011.py:5: FutureWarning: \n",
      "\n",
      "The `ci` parameter is deprecated. Use `errorbar=('ci', 100)` for the same effect.\n",
      "\n",
      "  sns.lineplot(x='fpr', y='tpr', data=df_plot, hue='trial', palette=['purple'], ci=100)\n",
      "The PostScript backend does not support transparency; partially transparent artists will be rendered opaque.\n"
     ]
    },
    {
     "data": {
      "image/png": "[encoded data removed]",
      "text/plain": [
       "<Figure size 264.567x165.354 with 1 Axes>"
      ]
     },
     "metadata": {},
     "output_type": "display_data"
    }
   ],
   "source": [
    "plt.rcParams.update(plt_conf)\n",
    "plt.rcParams[\"figure.figsize\"] = (\n",
    "    mm_to_inch(single_col_width * 4 / 5),\n",
    "    mm_to_inch(height / 2),\n",
    ")\n",
    "sns.lineplot(x=\"fpr\", y=\"tpr\", data=df_plot, hue=\"trial\", palette=[\"purple\"], ci=100)\n",
    "plt.legend(loc=\"lower right\")\n",
    "plt.xlabel(\"False Positive Rate (fpr)\")\n",
    "plt.ylabel(\"True Positive Rate (tpr)\")\n",
    "plt.savefig(\n",
    "    \"AIP_plots/4a_auc.pdf\", bbox_inches=\"tight\", dpi=300, transparent=True, format=\"pdf\"\n",
    ")\n",
    "plt.savefig(\"AIP_plots/4a_auc.svg\", bbox_inches=\"tight\", format=\"svg\")\n",
    "plt.savefig(\n",
    "    \"AIP_plots/4a_auc.eps\", bbox_inches=\"tight\", dpi=300, transparent=True, format=\"eps\"\n",
    ")"
   ]
  }
 ],
 "metadata": {
  "kernelspec": {
   "display_name": "ds",
   "language": "python",
   "name": "python3"
  },
  "language_info": {
   "codemirror_mode": {
    "name": "ipython",
    "version": 3
   },
   "file_extension": ".py",
   "mimetype": "text/x-python",
   "name": "python",
   "nbconvert_exporter": "python",
   "pygments_lexer": "ipython3",
   "version": "3.10.2"
  },
  "vscode": {
   "interpreter": {
    "hash": "f2d120223a6515dc0c7c16162fc5a2fa4110b35f32e696807c5ea82b3cb4ddfe"
   }
  }
 },
 "nbformat": 4,
 "nbformat_minor": 2
}
