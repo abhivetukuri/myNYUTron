{
 "cells": [
  {
   "cell_type": "code",
   "execution_count": 13,
   "metadata": {},
   "outputs": [],
   "source": [
    "import pandas as pd\n",
    "import seaborn as sns\n",
    "import matplotlib.pyplot as plt\n",
    "from pandas.io.json._normalize import nested_to_record\n",
    "import json\n",
    "import wandb\n",
    "from omegaconf import OmegaConf\n",
    "\n",
    "%matplotlib inline"
   ]
  },
  {
   "cell_type": "code",
   "execution_count": 3,
   "metadata": {},
   "outputs": [],
   "source": [
    "pull_from_wandb = False"
   ]
  },
  {
   "cell_type": "code",
   "execution_count": 4,
   "metadata": {},
   "outputs": [],
   "source": [
    "if pull_from_wandb:\n",
    "    doctor_path = \"/gpfs/data/oermannlab/users/lavender/NYUTron_hf/src/finetune_models/readmission/compare_with_doctors/inference/result/metric_comparison_new.csv\"\n",
    "    keep = (\n",
    "        [f\"doctor_{n+1}\" for n in range(6)]\n",
    "        + [\"nyutron_max_f1_label\"]\n",
    "        + [\"median_doctor\"]\n",
    "    )\n",
    "    doctors = pd.read_csv(doctor_path, index_col=0)\n",
    "    doctors = doctors[doctors.competitor.isin(keep)]\n",
    "    doctors"
   ]
  },
  {
   "cell_type": "code",
   "execution_count": 5,
   "metadata": {},
   "outputs": [],
   "source": [
    "if pull_from_wandb:\n",
    "    small_case_auc = pd.read_csv(\n",
    "        \"/gpfs/data/oermannlab/users/lavender/NYUTron_hf/src/finetune_models/readmission/compare_with_doctors/inference/result/20_cases_auc_new.csv\",\n",
    "        index_col=0,\n",
    "    )\n",
    "    small_case_auc"
   ]
  },
  {
   "cell_type": "markdown",
   "metadata": {},
   "source": [
    "## gather data df"
   ]
  },
  {
   "cell_type": "code",
   "execution_count": 6,
   "metadata": {},
   "outputs": [],
   "source": [
    "if pull_from_wandb:\n",
    "    username = \"lavender\"\n",
    "    project_name = \"eval_threshold\"\n",
    "    artifact_names = [\"temporal_auc\", \"prognostic_auc\"]\n",
    "    api = wandb.Api()\n",
    "\n",
    "    def artifact_to_df(artifact):\n",
    "        local_path = artifact.file()\n",
    "        f = open(local_path)\n",
    "        data = json.load(f)\n",
    "        df = pd.DataFrame(data=data[\"data\"], columns=data[\"columns\"])\n",
    "        return df\n",
    "\n",
    "    def combine_df(artifact_dfs, small_df, trials=[\"semi-prospective\", \"prospective\"]):\n",
    "        print(\"combining...\")\n",
    "        artifact_subs = []\n",
    "        for idx, artifact_df in enumerate(artifact_dfs):\n",
    "            artifact_sub = artifact_df[[\"fpr\", \"tpr\"]]\n",
    "            artifact_sub[\"trial\"] = trials[idx]\n",
    "            print(artifact_sub)\n",
    "            artifact_subs.append(artifact_sub)\n",
    "        small_sub = small_df[[\"fpr\", \"tpr\"]]\n",
    "        small_sub[\"trial\"] = \"retrospective-sample\"\n",
    "        print(small_sub)\n",
    "        combined = pd.concat(artifact_subs + [small_sub], ignore_index=True)\n",
    "        return combined"
   ]
  },
  {
   "cell_type": "code",
   "execution_count": 10,
   "metadata": {},
   "outputs": [],
   "source": [
    "if pull_from_wandb:\n",
    "    dfs = []\n",
    "    for artifact_name in artifact_names:\n",
    "        artifact = api.artifact(f\"{username}/{project_name}/{artifact_name}:v0\")\n",
    "        df = artifact_to_df(artifact)\n",
    "        dfs.append(df)\n",
    "    print(\"*****df*****\")\n",
    "    print(dfs)\n",
    "    print(\"****small auc*****\")\n",
    "    print(small_case_auc)\n",
    "    combined = combine_df(dfs, small_case_auc)\n",
    "    combined_sub = combined[combined.trial == \"retrospective-sample\"]\n",
    "    combined_sub[\"trial\"] = combined_sub[\"trial\"].replace(\n",
    "        {\"retrospective-sample\": \"nyutron\"}\n",
    "    )\n",
    "    print(combined)\n",
    "    print(\"************\")\n",
    "    legend = [\"physician\"] * 6 + [\"nyutron\", \"median physician\"]\n",
    "    doctors[\"predictor\"] = legend\n",
    "    print(doctors)\n",
    "    print(\"************\")\n",
    "    combined_sub[\"trial\"] = \"nyutron-auc\"\n",
    "    print(combined_sub)\n",
    "    doctors.to_csv(\"raw_data/3a_scatter.csv\")\n",
    "    combined_sub.to_csv(\"raw_data/3a_auc.csv\")\n",
    "else:\n",
    "    doctors = pd.read_csv(\"raw_data/3a_scatter.csv\", index_col=0)\n",
    "    combined_sub = pd.read_csv(\"raw_data/3a_auc.csv\", index_col=0)"
   ]
  },
  {
   "cell_type": "code",
   "execution_count": 11,
   "metadata": {},
   "outputs": [
    {
     "data": {
      "text/plain": [
       "[(0.4, 0.7607843137254902, 0.6470588235294118),\n",
       " (0.9882352941176471, 0.5529411764705883, 0.3843137254901961),\n",
       " (0.5529411764705883, 0.6274509803921569, 0.796078431372549),\n",
       " (0.8980392156862745, 0.7686274509803922, 0.5803921568627451)]"
      ]
     },
     "execution_count": 11,
     "metadata": {},
     "output_type": "execute_result"
    }
   ],
   "source": [
    "palette = sns.color_palette(\"Set2\", 9)\n",
    "palette = [palette[0], palette[1], palette[2], palette[6]]\n",
    "palette"
   ]
  },
  {
   "cell_type": "code",
   "execution_count": 14,
   "metadata": {},
   "outputs": [
    {
     "name": "stdout",
     "output_type": "stream",
     "text": [
      "{'axes.labelsize': 7, 'xtick.labelsize': 7, 'ytick.labelsize': 7, 'legend.fontsize': 7, 'font.size': 7, 'font.family': 'sans-serif', 'font.sans-serif': 'Arial, Helvetica', 'mathtext.fontset': 'dejavusans', 'axes.linewidth': 0.5, 'grid.linewidth': 0.5, 'lines.linewidth': 1.0, 'lines.markersize': 3, 'pdf.fonttype': 42, 'ps.fonttype': 42, 'svg.fonttype': 'none'}\n"
     ]
    }
   ],
   "source": [
    "plt_conf = OmegaConf.load(\"nature.yaml\")\n",
    "slack = 5\n",
    "single_col_width = 89 - slack\n",
    "double_col_width = 183 - slack\n",
    "height = 89 - slack\n",
    "\n",
    "\n",
    "def mm_to_inch(mm):\n",
    "    return mm / 25.4\n",
    "\n",
    "\n",
    "print(plt_conf)"
   ]
  },
  {
   "cell_type": "code",
   "execution_count": 31,
   "metadata": {},
   "outputs": [
    {
     "name": "stderr",
     "output_type": "stream",
     "text": [
      "The PostScript backend does not support transparency; partially transparent artists will be rendered opaque.\n"
     ]
    },
    {
     "data": {
      "image/png": "[encoded data removed]",
      "text/plain": [
       "<Figure size 330.709x330.709 with 1 Axes>"
      ]
     },
     "metadata": {},
     "output_type": "display_data"
    }
   ],
   "source": [
    "sns.set(font_scale=3, style=\"white\")\n",
    "marker_size = 30\n",
    "plt.rcParams.update(plt_conf)\n",
    "sns.lmplot(\n",
    "    x=\"fpr\",\n",
    "    y=\"tpr\",\n",
    "    data=doctors,\n",
    "    hue=\"predictor\",\n",
    "    fit_reg=False,\n",
    "    markers=[\"o\", \"^\", \"v\"],\n",
    "    legend=False,\n",
    "    palette=palette[:3],\n",
    "    scatter_kws={\"s\": marker_size, \"alpha\": 0.5},\n",
    "    height=mm_to_inch(height),\n",
    "    aspect=1,\n",
    ")\n",
    "ax = sns.lineplot(\n",
    "    x=\"fpr\",\n",
    "    y=\"tpr\",\n",
    "    data=combined_sub,\n",
    "    hue=\"trial\",\n",
    "    palette=[palette[3]],\n",
    "    errorbar=lambda x: (x.min(), x.max()),\n",
    ")\n",
    "sns.scatterplot(\n",
    "    x=\"fpr\",\n",
    "    y=\"tpr\",\n",
    "    data=combined_sub,\n",
    "    hue=\"trial\",\n",
    "    palette=[palette[3]],\n",
    "    marker=\"x\",\n",
    "    legend=False,\n",
    "    s=marker_size,\n",
    ")\n",
    "plt.rcParams.update(plt_conf)\n",
    "plt.rcParams[\"figure.figsize\"] = (\n",
    "    mm_to_inch(double_col_width / 3 * 2),\n",
    "    mm_to_inch(height / 2),\n",
    ")\n",
    "handles, labels = ax.get_legend_handles_labels()\n",
    "leg = ax.legend(handles=handles, labels=labels, loc=\"lower right\")\n",
    "plt.savefig(\n",
    "    \"AIP_plots/3a.svg\", bbox_inches=\"tight\", format=\"svg\", dpi=300, transparent=True\n",
    ")\n",
    "plt.savefig(\"AIP_plots/3a.eps\", bbox_inches=\"tight\", format=\"eps\")\n",
    "plt.savefig(\"AIP_plots/3a.pdf\", bbox_inches=\"tight\", format=\"pdf\")"
   ]
  }
 ],
 "metadata": {
  "kernelspec": {
   "display_name": "Python 3 (ipykernel)",
   "language": "python",
   "name": "python3"
  },
  "language_info": {
   "codemirror_mode": {
    "name": "ipython",
    "version": 3
   },
   "file_extension": ".py",
   "mimetype": "text/x-python",
   "name": "python",
   "nbconvert_exporter": "python",
   "pygments_lexer": "ipython3",
   "version": "3.10.2"
  },
  "vscode": {
   "interpreter": {
    "hash": "f2d120223a6515dc0c7c16162fc5a2fa4110b35f32e696807c5ea82b3cb4ddfe"
   }
  }
 },
 "nbformat": 4,
 "nbformat_minor": 2
}
